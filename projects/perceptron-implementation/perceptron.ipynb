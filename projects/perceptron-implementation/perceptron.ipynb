{
 "cells": [
  {
   "cell_type": "markdown",
   "metadata": {
    "id": "2nch_x-3iYwP"
   },
   "source": [
    "<p></p>\n",
    "<div style=\"direction:rtl;line-height:300%;\">\n",
    "\t<font face=\"XB Zar\" size=5>\n",
    "\t\t<font color=#0000FF size=6>\n",
    " پیاده‌سازی پرسپترون (Perceptron)\n",
    "        </font>\n",
    "\t\t<hr>\n",
    "        <b>متن گزارش در محیط ژوپیتر محلی (local) به درستی نمایش داده می‌شود، ولی روی گوگل کولب مشکل دارد.</b>\n",
    "        <br>\n",
    "در ابتدا تعدادی از متغیرهایی که در ادامه نیاز خواهیم داشت را مقداردهی اولیه می‌کنیم. <code>n_samples</code> تعداد نمونه‌های مجموعه داده، <code>n_features</code> تعداد ویژگی‌ها، <code>true_label</code> برچسب مثبت و <code>false_label</code> برچسب منفی است. در جزوه‌ی استاد برچسب منفی $-1$ در نظر گرفته شده، ولی ما در اینجا آن را $0$ در نظر می‌گیریم. با این حال می‌توان به راحتی تغییرش داد.    \n",
    "\t</font>\n",
    "</div>"
   ]
  },
  {
   "cell_type": "code",
   "execution_count": 104,
   "metadata": {
    "id": "gOoS74rJ25ud"
   },
   "outputs": [],
   "source": [
    "n_samples   = 100\n",
    "n_features  = 2\n",
    "true_label  = 1\n",
    "false_label = 0"
   ]
  },
  {
   "cell_type": "markdown",
   "metadata": {
    "id": "DowD1-c1iYwU"
   },
   "source": [
    "<p></p>\n",
    "<div style=\"direction:rtl;line-height:300%;\">\n",
    "\t<font face=\"XB Zar\" size=5>\n",
    "\t\t<p></p>\n",
    "        حال همان طور که در راهنمای پروژه گفته شده ابتدا به کمک قطعه کد زیر مجموعه داده‌ای می‌سازیم که به صورت خطی جدایی‌پذیر باشد. تعداد نمونه‌ها و ویژگی‌ها را همان طور که در ابتدا مقداردهی کرده بودیم به تابع <code>make_blobs</code> می‌دهیم.\n",
    "\t</font>\n",
    "</div>"
   ]
  },
  {
   "cell_type": "code",
   "execution_count": 105,
   "metadata": {
    "id": "XjmnQ9Ye9WMl"
   },
   "outputs": [],
   "source": [
    "from sklearn.datasets import make_blobs\n",
    "\n",
    "X, Y = make_blobs(n_samples=n_samples, n_features=n_features, centers=2, random_state=41)"
   ]
  },
  {
   "cell_type": "markdown",
   "metadata": {
    "id": "oFUfDyWGiYwW"
   },
   "source": [
    "<p></p>\n",
    "<div style=\"direction:rtl;line-height:300%;\">\n",
    "\t<font face=\"XB Zar\" size=5>\n",
    "\t\t<p></p>\n",
    "        در ادامه کلاس <code>F</code> را تعریف کرده و متد <code>sign</code> را همان طور که از ما خواسته شده مطابق تعریف تابع $sign$ پیاده‌سازی می‌کنیم. این متد در صورتی که مقدار نامنفی دریافت کند، مقداری که برای برچسب مثبت تعریف کردیم (<code>true_label</code>) و در غیر این صورت، مقداری که برای برچسب منفی تعریف کردیم (<code>false_label</code>) را بازمی‌گرداند.\n",
    "\t</font>\n",
    "</div>"
   ]
  },
  {
   "cell_type": "code",
   "execution_count": 106,
   "metadata": {
    "id": "Vm3E8WvW90hN"
   },
   "outputs": [],
   "source": [
    "class F:\n",
    "    @staticmethod\n",
    "    def sign(x):\n",
    "        return true_label if (x >= 0) else false_label"
   ]
  },
  {
   "cell_type": "markdown",
   "metadata": {
    "id": "wixuBGSciYwY"
   },
   "source": [
    "<p></p>\n",
    "<div style=\"direction:rtl;line-height:300%;\">\n",
    "\t<font face=\"XB Zar\" size=5>\n",
    "\t\t<p></p>\n",
    "        از کتابخانه‌ی <code>numpy</code> استفاده خواهیم کرد؛ پس آن را ایمپورت می‌کنیم.\n",
    "\t</font>\n",
    "</div>"
   ]
  },
  {
   "cell_type": "code",
   "execution_count": 107,
   "metadata": {
    "id": "S-_vLnsfAqlo"
   },
   "outputs": [],
   "source": [
    "import numpy as np"
   ]
  },
  {
   "cell_type": "markdown",
   "metadata": {
    "id": "g8E3iqCaiYwb"
   },
   "source": [
    "<p></p>\n",
    "<div style=\"direction:rtl;line-height:300%;\">\n",
    "\t<font face=\"XB Zar\" size=5>\n",
    "\t\t<p></p>\n",
    "        کلاس <code>Perceptron</code> را تعریف می‌کنیم. مطابق آنچه که در اسلاید مربوطه گفته شده، بردار وزن اولیه $W^{(0)}$ و بایاس اولیه $b^{(0)}$ را به صورت تصادفی انتخاب می‌کنیم.\n",
    "        <br>\n",
    "        همچنین متد <code>forward</code> را به گونه‌ای تعریف می‌کنیم که خروجی پرسپترون، یعنی $sign(W.X+b)$ را محاسبه کند که <code>input</code> همان ورودی $X$ پرسپترون است.\n",
    "\t</font>\n",
    "</div>"
   ]
  },
  {
   "cell_type": "code",
   "execution_count": 108,
   "metadata": {
    "id": "raZ-SFnX-Zn2"
   },
   "outputs": [],
   "source": [
    "class Perceptron:\n",
    "    def __init__(self, input_size):\n",
    "        self.W = np.random.rand(input_size)\n",
    "        self.b = np.random.rand()\n",
    "\n",
    "    def forward(self, input):\n",
    "        return F.sign(self.W @ input + self.b)"
   ]
  },
  {
   "cell_type": "markdown",
   "metadata": {
    "id": "EpHXE6OciYwc"
   },
   "source": [
    "<p></p>\n",
    "<div style=\"direction:rtl;line-height:300%;\">\n",
    "\t<font face=\"XB Zar\" size=5>\n",
    "\t\t<p></p>\n",
    "        حال کلاس <code>Optimizer</code> را تعریف می‌کنیم که با دریافت مدل به آن دسترسی پیدا کرده و با اعمال متد <code>update</code>، وزن‌ها و بایاس مدل را مطابق یک مرحله‌ی یادگیری که در الگوریتم یادگیری پرسپترون بیان شد بروزرسانی می‌کند.\n",
    "        <br>\n",
    "        این بروزرسانی به این صورت است که اگر در مرحله‌ی $k$ام بردار وزن برابر $W^{(k)}$ و بایاس برابر $b^{(k)}$ باشد، در مرحله‌ی $(k + 1)$ام خواهیم داشت:\n",
    "        <br>\n",
    "        <p>\n",
    "            $W^{(k + 1)} = W^{(k)} + (y_i - \\hat{y_i}^{(k)})X$\n",
    "            <br>\n",
    "            $b^{(k + 1)} = b^{(k)} + (y_i - \\hat{y_i}^{(k)})$\n",
    "        </p>\n",
    "        که $X$ ورودی پرسپترون و $\\hat{y_i}^{(k)}$ خروجی آن به ازای بردار وزن و بایاس در مرحله‌ی $k$ام است و در متد <code>update</code> به ترتیب با <code>x</code> و <code>y_hat</code> نشان داده شده است.\n",
    "\t</font>\n",
    "</div>"
   ]
  },
  {
   "cell_type": "code",
   "execution_count": 109,
   "metadata": {
    "id": "yOE0pSx7FnjM"
   },
   "outputs": [],
   "source": [
    "class Optimizer:\n",
    "    def __init__(self, model):\n",
    "        self.model = model\n",
    "\n",
    "    def update(self, x, y, y_hat):\n",
    "        self.model.W += (y - y_hat) * x\n",
    "        self.model.b += (y - y_hat)"
   ]
  },
  {
   "cell_type": "markdown",
   "metadata": {
    "id": "nxA3j_PviYwe"
   },
   "source": [
    "<p></p>\n",
    "<div style=\"direction:rtl;line-height:300%;\">\n",
    "\t<font face=\"XB Zar\" size=5>\n",
    "\t\t<p></p>\n",
    "        یک نمونه از <code>Perceptron</code> با سایز ورودی <code>n_features</code> که در ابتدا مقداردهی کردیم تعریف می‌کنیم.\n",
    "        <br>\n",
    "         یک نمونه از<code>Optimizer</code> هم ایجاد می‌کنیم و نمونه‌ی پرسپترون را به عنوان مدل ورودی به آن می‌دهیم.\n",
    "\t</font>\n",
    "</div>"
   ]
  },
  {
   "cell_type": "code",
   "execution_count": 110,
   "metadata": {
    "id": "32fY8LpzJl59"
   },
   "outputs": [],
   "source": [
    "perceptron = Perceptron(n_features)\n",
    "optimizer = Optimizer(perceptron)"
   ]
  },
  {
   "cell_type": "markdown",
   "metadata": {
    "id": "oDnxJIzgiYwf"
   },
   "source": [
    "<p></p>\n",
    "<div style=\"direction:rtl;line-height:300%;\">\n",
    "\t<font face=\"XB Zar\" size=5>\n",
    "\t\t<p></p>\n",
    "        تعداد دفعاتی که می‌خواهیم مرحله‌ی یادگیری را انجام دهیم که شامل پیمایش مجموعه داده و بروزرسانی وزن‌ها و بایاس است را <code>n_iter</code> می‌نامیم. به این تعداد روی مجموعه داده حرکت کرده و در هر مرحله به ازای هر نمونه از مجموعه داده، متد <code>update</code> را فراخوانی می‌کنیم.\n",
    "\t</font>\n",
    "</div>"
   ]
  },
  {
   "cell_type": "code",
   "execution_count": 111,
   "metadata": {
    "id": "5tB0L58YKkaS"
   },
   "outputs": [],
   "source": [
    "n_iter = 1000\n",
    "\n",
    "for _ in range(n_iter):\n",
    "    for x, y in zip(X, Y):\n",
    "        optimizer.update(x, y, perceptron.forward(x))"
   ]
  },
  {
   "cell_type": "markdown",
   "metadata": {
    "id": "7acEFfy-iYwg"
   },
   "source": [
    "<p></p>\n",
    "<div style=\"direction:rtl;line-height:300%;\">\n",
    "\t<font face=\"XB Zar\" size=5>\n",
    "\t\t<p></p>\n",
    "        در نهایت با استفاده از کتابخانه‌ی <code>matplotlib</code> و با فرض آنکه تعداد ویژگی‌ها و در نتیجه سایز ورودی پرسپترون برابر $2$ است، خط جداکننده را به همراه نمونه‌های مجموعه داده در فضای دوبعدی ترسیم می‌کنیم.\n",
    "        <br>\n",
    "        برای ترسیم خط جداکننده از این موضوع استفاده می‌کنیم که اگر بردار وزن نهایی $W = \\begin{bmatrix} w_1 & w_2 \\end{bmatrix}^T$ و بایاس نهایی $b$ باشد، آنگاه معادله‌ی خط به صورت زیر خواهد بود:\n",
    "        <p>\n",
    "        $w_1x_1 + w_2x_2 + b = 0$\n",
    "        </p>\n",
    "        که از نقاط $(0, \\frac{-b}{w_2})$ و $(\\frac{-b}{w_1}, 0)$ عبور می‌کند.\n",
    "\t</font>\n",
    "</div>"
   ]
  },
  {
   "cell_type": "code",
   "execution_count": 112,
   "metadata": {
    "colab": {
     "base_uri": "https://localhost:8080/",
     "height": 449
    },
    "id": "5gOMJcE7Vwd2",
    "outputId": "f45a976b-1d4e-4c71-e80e-d92848979ac1"
   },
   "outputs": [
    {
     "data": {
      "image/png": "[encoded data removed]",
      "text/plain": [
       "<Figure size 640x480 with 1 Axes>"
      ]
     },
     "metadata": {},
     "output_type": "display_data"
    }
   ],
   "source": [
    "from matplotlib import pyplot as plt\n",
    "\n",
    "plt.scatter(X[:, 0][Y == true_label], X[:, 1][Y == true_label], color='blue', marker='s', label=str(true_label))\n",
    "plt.scatter(X[:, 0][Y == false_label], X[:, 1][Y == false_label], color='red', marker='o', label=str(false_label))\n",
    "\n",
    "plt.axline((0, -perceptron.b / perceptron.W[1]), (-perceptron.b / perceptron.W[0], 0))\n",
    "\n",
    "plt.legend(loc='upper left')\n",
    "plt.xlabel('x1')\n",
    "plt.ylabel('x2')\n",
    "plt.show()"
   ]
  }
 ],
 "metadata": {
  "colab": {
   "provenance": []
  },
  "kernelspec": {
   "display_name": "Python 3 (ipykernel)",
   "language": "python",
   "name": "python3"
  },
  "language_info": {
   "codemirror_mode": {
    "name": "ipython",
    "version": 3
   },
   "file_extension": ".py",
   "mimetype": "text/x-python",
   "name": "python",
   "nbconvert_exporter": "python",
   "pygments_lexer": "ipython3",
   "version": "3.11.5"
  }
 },
 "nbformat": 4,
 "nbformat_minor": 1
}
